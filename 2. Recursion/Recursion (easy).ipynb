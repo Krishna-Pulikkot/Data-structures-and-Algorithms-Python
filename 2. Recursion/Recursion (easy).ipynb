{
 "cells": [
  {
   "cell_type": "markdown",
   "id": "a676ecd0",
   "metadata": {},
   "source": [
    "## 1. Reverse String"
   ]
  },
  {
   "cell_type": "code",
   "execution_count": 3,
   "id": "3ee6d4d6",
   "metadata": {},
   "outputs": [
    {
     "name": "stdout",
     "output_type": "stream",
     "text": [
      "['h', 's', 'a', 'l', 'a', 'P']\n"
     ]
    }
   ],
   "source": [
    "def sub(s,l,r):\n",
    "    if(l>r):\n",
    "        return s\n",
    "    else:\n",
    "        s[l],s[r]=s[r],s[l]\n",
    "        return sub(s,l+1,r-1)\n",
    "\n",
    "s=list(\"Palash\")\n",
    "n=len(s)\n",
    "print(sub(s,0,n-1))\n",
    "                "
   ]
  },
  {
   "cell_type": "markdown",
   "id": "95ac3915",
   "metadata": {},
   "source": [
    "<hr/>\n",
    "<hr/>\n",
    "\n",
    "## 2. Pascal Triangle\n",
    "                 1\n",
    "               1   1\n",
    "             1   2   1\n",
    "           1   3   3   1\n",
    "         1   4   6   4   1\n",
    "       1   5  10   10  5   1\n",
    "\n",
    "Find the value at [ i , j ] value. "
   ]
  },
  {
   "cell_type": "code",
   "execution_count": 13,
   "id": "20e1c67e",
   "metadata": {},
   "outputs": [
    {
     "name": "stdout",
     "output_type": "stream",
     "text": [
      "6\n"
     ]
    }
   ],
   "source": [
    "#Base case : f(i,j)=1 where j=1 or j=i\n",
    "#Recurrance relation : f(i,j) = f(i−1,j−1) + f(i−1,j)\n",
    "\n",
    "def pascal(i,j):\n",
    "    if j==1 or j==i:\n",
    "        return 1\n",
    "    else:\n",
    "        return pascal(i-1,j-1) + pascal(i-1,j)\n",
    "\n",
    "print(pascal(5,3))"
   ]
  },
  {
   "cell_type": "markdown",
   "id": "8a331d0a",
   "metadata": {},
   "source": [
    "<hr/>\n",
    "<hr/>\n",
    "\n",
    "## 3. Power of three\n",
    "Given an integer n, return true if it is a power of three. Otherwise, return false.  \n",
    "An integer n is a power of three, if there exists an integer x such that n == 3**x.\n"
   ]
  },
  {
   "cell_type": "code",
   "execution_count": 14,
   "id": "515ca024",
   "metadata": {},
   "outputs": [
    {
     "name": "stdout",
     "output_type": "stream",
     "text": [
      "True\n",
      "False\n"
     ]
    }
   ],
   "source": [
    "def sub(n):\n",
    "    if n==1:\n",
    "        return True\n",
    "    elif n<3:\n",
    "        return False\n",
    "    else:\n",
    "        return sub(n/3)\n",
    "\n",
    "print(sub(27))\n",
    "print(sub(45))\n",
    "                "
   ]
  },
  {
   "cell_type": "markdown",
   "id": "d23bcc57",
   "metadata": {},
   "source": [
    "<hr/>\n",
    "<hr/>\n",
    "\n",
    "## 4. Print Pattern\n",
    "\n",
    "0 0 0 0  \n",
    "0 0 0  \n",
    "0 0  \n",
    "0  "
   ]
  },
  {
   "cell_type": "code",
   "execution_count": 15,
   "id": "ccb36aca",
   "metadata": {},
   "outputs": [
    {
     "name": "stdout",
     "output_type": "stream",
     "text": [
      "0 0 0 0  \n",
      "0 0 0  \n",
      "0 0  \n",
      "0  \n"
     ]
    }
   ],
   "source": [
    "#Concept of 2 loops into recursion\n",
    "def sub(i,n):\n",
    "    if n==0:\n",
    "        return \n",
    "    else:\n",
    "        if i==n:\n",
    "            print(\" \")\n",
    "            sub(0,n-1)\n",
    "        else:\n",
    "            print(\"0\",end=\" \")\n",
    "            sub(i+1,n)\n",
    "sub(0,4)"
   ]
  },
  {
   "cell_type": "code",
   "execution_count": null,
   "id": "07d6d1bf",
   "metadata": {},
   "outputs": [],
   "source": []
  }
 ],
 "metadata": {
  "kernelspec": {
   "display_name": "Python 3",
   "language": "python",
   "name": "python3"
  },
  "language_info": {
   "codemirror_mode": {
    "name": "ipython",
    "version": 3
   },
   "file_extension": ".py",
   "mimetype": "text/x-python",
   "name": "python",
   "nbconvert_exporter": "python",
   "pygments_lexer": "ipython3",
   "version": "3.8.8"
  }
 },
 "nbformat": 4,
 "nbformat_minor": 5
}
